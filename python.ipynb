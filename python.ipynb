{
 "cells": [
  {
   "cell_type": "code",
   "execution_count": 1,
   "id": "2d97e291-21ed-4d17-8ee9-ac003ef40443",
   "metadata": {},
   "outputs": [],
   "source": [
    "from typing import Any, List, Callable\n",
    "from functools import reduce"
   ]
  },
  {
   "cell_type": "code",
   "execution_count": 2,
   "id": "1ff9894d-b7bd-41dd-b173-ceb881239a47",
   "metadata": {},
   "outputs": [],
   "source": [
    "def quantify(d, pred=bool):\n",
    "    return sum(pred(dd) for dd in d)\n",
    "\n",
    "\n",
    "def process_inputs(day: str, convert: Callable[str, Any] = int):\n",
    "    with open(f\"inputs/d{day}.txt\") as f:\n",
    "        data = [convert(s) for s in f.read().strip().split(\"\\n\") if s != \"\"]\n",
    "    return data\n",
    "\n",
    "\n",
    "def to_int(arr: List[bool])->int:\n",
    "    s = 0\n",
    "    for i in reversed(range(len(arr))):\n",
    "        s += arr[i] * 2 ** (len(arr) - i - 1)\n",
    "    return s\n",
    "\n",
    "\n",
    "def sum_arr_of_arrs(aoas: List[List[float]]) -> List[float]:\n",
    "    for a,b in zip(aoas, aoas[1:]):\n",
    "        assert(len(a) == len(b))\n",
    "\n",
    "    return reduce(\n",
    "        lambda v, w: [i + j for i,j in zip(v,w)],\n",
    "        aoas,\n",
    "        [0 for _ in aoas[0]]\n",
    "     )\n",
    "\n",
    "def el_wise_div(arr: List[float], div: float) -> List[float]:\n",
    "    return [v / div for v in arr]"
   ]
  },
  {
   "cell_type": "markdown",
   "id": "a31290de-b183-403c-987b-9700db64f0f1",
   "metadata": {},
   "source": [
    "## Day 1!"
   ]
  },
  {
   "cell_type": "code",
   "execution_count": 3,
   "id": "bcef0eec-0879-405d-b177-c16010fc4b32",
   "metadata": {},
   "outputs": [
    {
     "name": "stdout",
     "output_type": "stream",
     "text": [
      "1316\n",
      "1344\n"
     ]
    }
   ],
   "source": [
    "data = process_inputs(\"01\", int)\n",
    "\n",
    "print(quantify(zip(data, data[1:]), lambda x: x[1] > x[0]))\n",
    "print(\n",
    "    quantify(\n",
    "        zip(zip(data, data[1:], data[2:]), zip(data[1:], data[2:], data[3:])),\n",
    "        lambda x: sum(x[1]) > sum(x[0]),\n",
    "    )\n",
    ")"
   ]
  },
  {
   "cell_type": "markdown",
   "id": "199974c0-89c0-4cac-916d-41650a179be9",
   "metadata": {},
   "source": [
    "## Day 2!"
   ]
  },
  {
   "cell_type": "code",
   "execution_count": 4,
   "id": "f610eed7-6fe6-47c7-8830-f8b3fa95e63f",
   "metadata": {},
   "outputs": [
    {
     "name": "stdout",
     "output_type": "stream",
     "text": [
      "1499229\n",
      "1340836560\n"
     ]
    }
   ],
   "source": [
    "def conv_inp(inp):\n",
    "    s = inp.split(\" \")\n",
    "    return (s[0], int(s[1]))\n",
    "\n",
    "data = process_inputs(\"02\", conv_inp)\n",
    "\n",
    "def p1():\n",
    "    x = z = 0\n",
    "    for dir, val in data:\n",
    "        if dir == \"forward\":\n",
    "            x += val\n",
    "        elif dir == \"back\":\n",
    "            x -= val\n",
    "        elif dir == \"up\":\n",
    "            z -= val\n",
    "        elif dir == \"down\":\n",
    "            z += val\n",
    "    return x*z\n",
    "\n",
    "\n",
    "def p2():\n",
    "    aim = x = z = 0\n",
    "    for dir, val in data:\n",
    "        if dir == \"down\":\n",
    "            aim += val\n",
    "        elif dir == \"up\":\n",
    "            aim -= val\n",
    "        elif dir == \"forward\":\n",
    "            x += val\n",
    "            z += aim * val\n",
    "    return x * z\n",
    "\n",
    "\n",
    "print(p1())\n",
    "print(p2())"
   ]
  },
  {
   "cell_type": "markdown",
   "id": "e675b8b8-f7c3-43d7-afe8-d0fab04849e8",
   "metadata": {},
   "source": [
    "## Day 3!"
   ]
  },
  {
   "cell_type": "code",
   "execution_count": 5,
   "id": "54e4f519-65d0-4edf-a917-2245f11777f6",
   "metadata": {},
   "outputs": [
    {
     "data": {
      "text/plain": [
       "(1307354, 482500)"
      ]
     },
     "execution_count": 5,
     "metadata": {},
     "output_type": "execute_result"
    }
   ],
   "source": [
    "data = process_inputs(\"03\", convert = lambda x: [int(s) for s in list(x)])\n",
    "\n",
    "\n",
    "def p1(data):\n",
    "    ratios = el_wise_div(sum_arr_of_arrs(data), len(data))\n",
    "    gamma = [x >= 0.5 for x in ratios]\n",
    "    delta = [not x for x in gamma]\n",
    "    return to_int(gamma) * to_int(delta)\n",
    "\n",
    "def p2(data):\n",
    "    gammas = [bin_num[:] for bin_num in data]\n",
    "    deltas = [bin_num[:] for bin_num in data]\n",
    "    for i in range(len(data[0])):\n",
    "        gamma_rate = el_wise_div(sum_arr_of_arrs(gammas), len(gammas))\n",
    "        delta_rate = el_wise_div(sum_arr_of_arrs(deltas), len(deltas))\n",
    "\n",
    "        if len(gammas) > 1:\n",
    "            gammas = [bin_num for bin_num in gammas if bin_num[i] == (gamma_rate[i] >= 0.5)]\n",
    "        if len(deltas) > 1:\n",
    "            deltas = [bin_num for bin_num in deltas if bin_num[i] == (delta_rate[i] <  0.5)]\n",
    "\n",
    "    return to_int(gammas[0]) * to_int(deltas[0])\n",
    "\n",
    "p1(data), p2(data)"
   ]
  }
 ],
 "metadata": {
  "kernelspec": {
   "display_name": "Python 3",
   "language": "python",
   "name": "python3"
  },
  "language_info": {
   "codemirror_mode": {
    "name": "ipython",
    "version": 3
   },
   "file_extension": ".py",
   "mimetype": "text/x-python",
   "name": "python",
   "nbconvert_exporter": "python",
   "pygments_lexer": "ipython3",
   "version": "3.9.7"
  }
 },
 "nbformat": 4,
 "nbformat_minor": 5
}
