{
 "cells": [
  {
   "cell_type": "code",
   "execution_count": 2,
   "id": "2d97e291-21ed-4d17-8ee9-ac003ef40443",
   "metadata": {},
   "outputs": [],
   "source": [
    "from typing import Any, Callable"
   ]
  },
  {
   "cell_type": "code",
   "execution_count": 5,
   "id": "1ff9894d-b7bd-41dd-b173-ceb881239a47",
   "metadata": {},
   "outputs": [],
   "source": [
    "def quantify(d, pred=bool):\n",
    "    return sum(pred(dd) for dd in d)\n",
    "\n",
    "\n",
    "def process_inputs(day: str, convert: Callable[str, Any]):\n",
    "    with open(f\"inputs/d{day}.txt\") as f:\n",
    "        data = [convert(s) for s in f.read().strip().split(\"\\n\") if s != \"\"]\n",
    "\n",
    "    return data"
   ]
  },
  {
   "cell_type": "markdown",
   "id": "a31290de-b183-403c-987b-9700db64f0f1",
   "metadata": {},
   "source": [
    "## Day 1!"
   ]
  },
  {
   "cell_type": "code",
   "execution_count": 6,
   "id": "bcef0eec-0879-405d-b177-c16010fc4b32",
   "metadata": {},
   "outputs": [
    {
     "name": "stdout",
     "output_type": "stream",
     "text": [
      "1316\n",
      "1344\n"
     ]
    }
   ],
   "source": [
    "data = process_inputs(\"01\", int)\n",
    "\n",
    "print(quantify(zip(data, data[1:]), lambda x: x[1] > x[0]))\n",
    "print(\n",
    "    quantify(\n",
    "        zip(zip(data, data[1:], data[2:]), zip(data[1:], data[2:], data[3:])),\n",
    "        lambda x: sum(x[1]) > sum(x[0]),\n",
    "    )\n",
    ")"
   ]
  },
  {
   "cell_type": "markdown",
   "id": "199974c0-89c0-4cac-916d-41650a179be9",
   "metadata": {},
   "source": [
    "## Day 2!"
   ]
  },
  {
   "cell_type": "code",
   "execution_count": 7,
   "id": "f610eed7-6fe6-47c7-8830-f8b3fa95e63f",
   "metadata": {},
   "outputs": [
    {
     "name": "stdout",
     "output_type": "stream",
     "text": [
      "1499229 1340836560\n"
     ]
    }
   ],
   "source": [
    "def conv_inp(inp):\n",
    "    s = inp.split(\" \")\n",
    "    return (s[0], int(s[1]))\n",
    "\n",
    "data = process_inputs(\"02\", conv_inp)\n",
    "\n",
    "def p1():\n",
    "    x = z = 0\n",
    "    for dir, val in data:\n",
    "        if dir == \"forward\":\n",
    "            x += val\n",
    "        elif dir == \"back\":\n",
    "            x -= val\n",
    "        elif dir == \"up\":\n",
    "            z -= val\n",
    "        elif dir == \"down\":\n",
    "            z += val\n",
    "    return x*z\n",
    "\n",
    "\n",
    "def p2():\n",
    "    aim = x = z = 0\n",
    "    for dir, val in data:\n",
    "        if dir == \"down\":\n",
    "            aim += val\n",
    "        elif dir == \"up\":\n",
    "            aim -= val\n",
    "        elif dir == \"forward\":\n",
    "            x += val\n",
    "            z += aim * val\n",
    "    return x * z\n",
    "\n",
    "\n",
    "print(p1(), p2())"
   ]
  },
  {
   "cell_type": "code",
   "execution_count": null,
   "id": "9134d649-ce5e-452c-8528-ceb707e112d7",
   "metadata": {},
   "outputs": [],
   "source": []
  }
 ],
 "metadata": {
  "kernelspec": {
   "display_name": "Python 3",
   "language": "python",
   "name": "python3"
  },
  "language_info": {
   "codemirror_mode": {
    "name": "ipython",
    "version": 3
   },
   "file_extension": ".py",
   "mimetype": "text/x-python",
   "name": "python",
   "nbconvert_exporter": "python",
   "pygments_lexer": "ipython3",
   "version": "3.9.7"
  }
 },
 "nbformat": 4,
 "nbformat_minor": 5
}
