{
 "cells": [
  {
   "cell_type": "markdown",
   "id": "99a466e9-f1db-4fd2-beff-7b809e0e4c8d",
   "metadata": {},
   "source": [
    "# Advent of Code, 2021!\n",
    "\n",
    "It is truly the most wonderful time of the year! Here is my work for this year's Advent.\n",
    "\n",
    "I am doing it in Julia, Python, Rust (slowly), and hopefully another, more functional language for some problems.\n",
    "\n",
    "Folders hold solutions in languages other than Julia or Python. This is the Julia notebook. Enjoy!"
   ]
  },
  {
   "cell_type": "code",
   "execution_count": 1,
   "id": "9ac50f13-abd6-465f-bbf9-2c55b83d46ca",
   "metadata": {},
   "outputs": [
    {
     "data": {
      "text/plain": [
       "process_inputs (generic function with 1 method)"
      ]
     },
     "execution_count": 1,
     "metadata": {},
     "output_type": "execute_result"
    }
   ],
   "source": [
    "using JupyterFormatter;\n",
    "enable_autoformat();\n",
    "\n",
    "# Helpers, of course\n",
    "function quantify(data; predicate = x -> x)\n",
    "    mapreduce(predicate, +, data)\n",
    "end\n",
    "\n",
    "\n",
    "function process_inputs(day::String; convert::Function = s -> parse(Int64, s))\n",
    "    open(\"inputs/d$day.txt\", \"r\") do io\n",
    "        map(s -> convert(s), eachline(io))\n",
    "    end\n",
    "end"
   ]
  },
  {
   "cell_type": "markdown",
   "id": "918cd621-40bb-4337-87a2-b1e4e6fe31c8",
   "metadata": {},
   "source": [
    "## Day 1!"
   ]
  },
  {
   "cell_type": "code",
   "execution_count": 2,
   "id": "843f9cdc-8c87-4b0e-91a1-049b204a2658",
   "metadata": {},
   "outputs": [
    {
     "name": "stdout",
     "output_type": "stream",
     "text": [
      "1316\n",
      "1344\n"
     ]
    }
   ],
   "source": [
    "function p1()\n",
    "    data = process_inputs(\"01\")\n",
    "    quantify(zip(data, data[2:end]), predicate = ((i, j),) -> j > i)\n",
    "end\n",
    "\n",
    "\n",
    "function p2()\n",
    "    data = process_inputs(\"01\")\n",
    "    quantify(zip(data, data[4:end]), predicate = ((i, j),) -> sum(j) > sum(i))\n",
    "end\n",
    "\n",
    "println(p1())\n",
    "println(p2())"
   ]
  },
  {
   "cell_type": "markdown",
   "id": "3c2a201c-0d79-401f-b03a-fc49b91f52f4",
   "metadata": {},
   "source": [
    "## Day 2!"
   ]
  },
  {
   "cell_type": "code",
   "execution_count": 3,
   "id": "b514babd-8706-479c-bb89-3252d30190d4",
   "metadata": {},
   "outputs": [
    {
     "name": "stdout",
     "output_type": "stream",
     "text": [
      "1499229\n",
      "1340836560\n"
     ]
    }
   ],
   "source": [
    "function conv_inp(inp)\n",
    "    s = split(inp, \" \")\n",
    "    (s[1], parse(Int64, (s[2])))\n",
    "end\n",
    "\n",
    "data = process_inputs(\"02\", convert = conv_inp)\n",
    "\n",
    "\n",
    "function p1()\n",
    "    x = z = 0\n",
    "    for (dir, val) in data\n",
    "        if dir == \"forward\"\n",
    "            x += val\n",
    "        elseif dir == \"back\"\n",
    "            x -= val\n",
    "        elseif dir == \"up\"\n",
    "            z -= val\n",
    "        elseif dir == \"down\"\n",
    "            z += val\n",
    "        end\n",
    "    end\n",
    "    x * z\n",
    "end\n",
    "\n",
    "\n",
    "function p2()\n",
    "    x = z = aim = 0\n",
    "    for (dir, val) in data\n",
    "        if dir == \"forward\"\n",
    "            x += val\n",
    "            z += aim * val\n",
    "        elseif dir == \"up\"\n",
    "            aim -= val\n",
    "        elseif dir == \"down\"\n",
    "            aim += val\n",
    "        end\n",
    "    end\n",
    "    x * z\n",
    "end\n",
    "\n",
    "println(p1())\n",
    "println(p2())"
   ]
  },
  {
   "cell_type": "markdown",
   "id": "8ce79958-3384-491d-909e-a686dcdf86b5",
   "metadata": {},
   "source": [
    "## Day 3!"
   ]
  },
  {
   "cell_type": "code",
   "execution_count": 4,
   "id": "480bef98-c599-49bc-8b1e-7fd5e5fc0048",
   "metadata": {
    "tags": []
   },
   "outputs": [
    {
     "data": {
      "text/plain": [
       "(1307354, 482500)"
      ]
     },
     "execution_count": 4,
     "metadata": {},
     "output_type": "execute_result"
    }
   ],
   "source": [
    "data = process_inputs(\"03\", convert = x -> map(s -> parse(Int64, s), split(x, \"\")))\n",
    "\n",
    "function to_int(arr::Array{T})::Int64 where {T<:Number}\n",
    "    s = 0\n",
    "    for i = length(arr):-1:1\n",
    "        s += arr[i] * 2^(length(arr) - i)\n",
    "    end\n",
    "    s\n",
    "end\n",
    "\n",
    "function p1(data)\n",
    "    ratios = sum(data) / length(data)\n",
    "    gamma = map(x -> x >= 0.5, ratios)\n",
    "    delta = map(x -> !x, gamma)\n",
    "    to_int(gamma) * to_int(delta)\n",
    "end\n",
    "\n",
    "function p2(data)\n",
    "    gammas = copy(data)\n",
    "    deltas = copy(data)\n",
    "    for i = 1:length(data[1])\n",
    "        gamma_rate = sum(gammas) / length(gammas)\n",
    "        delta_rate = sum(deltas) / length(deltas)\n",
    "\n",
    "        if length(gammas) > 1\n",
    "            filter!(num -> num[i] == (gamma_rate[i] >= 0.5), gammas)\n",
    "        end\n",
    "        if length(deltas) > 1\n",
    "            filter!(num -> num[i] == (delta_rate[i] < 0.5), deltas)\n",
    "        end\n",
    "    end\n",
    "    to_int(gammas[1]) * to_int(deltas[1])\n",
    "end\n",
    "\n",
    "p1(data), p2(data)"
   ]
  },
  {
   "cell_type": "markdown",
   "id": "f1523f14-c70c-4e31-860d-a355f120c525",
   "metadata": {},
   "source": [
    "## Day 4!"
   ]
  },
  {
   "cell_type": "code",
   "execution_count": 5,
   "id": "516c5de0-8ac3-4c4c-b3ad-c8528d3ea1f8",
   "metadata": {
    "tags": []
   },
   "outputs": [
    {
     "data": {
      "text/plain": [
       "(67716, 1830)"
      ]
     },
     "execution_count": 5,
     "metadata": {},
     "output_type": "execute_result"
    }
   ],
   "source": [
    "mutable struct Board{T<:Integer}\n",
    "    board::Matrix{T}\n",
    "    called_num_idxs::Matrix{T}\n",
    "    Board(board_matrix::Matrix{T}) where {T<:Real} =\n",
    "        new{T}(board_matrix, ones(T, size(board_matrix)))\n",
    "end\n",
    "\n",
    "\n",
    "Base.show(io::IO, b::Board) =\n",
    "    print(io, \"Board(board=$(b.board), called_nums=$(b.called_num_idxs))\")\n",
    "\n",
    "\n",
    "function call_number(b::Board, num::T)::Bool where {T<:Integer}\n",
    "    idx = findfirst(n -> n == num, b.board)\n",
    "    if idx == nothing\n",
    "        return false\n",
    "    end\n",
    "    b.called_num_idxs[idx] = 0\n",
    "    return true\n",
    "end\n",
    "\n",
    "\n",
    "function board_has_win(b::Board)::Bool\n",
    "    for row in eachrow(b.called_num_idxs)\n",
    "        if row == zeros(5)\n",
    "            return true\n",
    "        end\n",
    "    end\n",
    "\n",
    "    for col in eachcol(b.called_num_idxs)\n",
    "        if col == zeros(5)\n",
    "            return true\n",
    "        end\n",
    "    end\n",
    "\n",
    "    return false\n",
    "end\n",
    "\n",
    "\n",
    "function get_day4_inputs()::Tuple{Array{Int64},Array{Board}}\n",
    "    open(\"inputs/d04.txt\", \"r\") do io\n",
    "        bingo_nums = map(s -> parse(Int64, s), split(readline(io), \",\"))\n",
    "        rest = strip(read(io, String))\n",
    "\n",
    "        boards = []\n",
    "        for board in split(rest, \"\\n\\n\")\n",
    "            board_matrix = zeros(Int64, 5, 5)\n",
    "            for (i, row) in enumerate(split(board, \"\\n\"))\n",
    "                # there is probably a cleaner regex, but this is A-OK w/ me\n",
    "                row_regex = r\"\\s*(\\d+)\\s*(\\d+)\\s*(\\d+)\\s*(\\d+)\\s*(\\d+)\"\n",
    "                row_captures = match(row_regex, row).captures\n",
    "                row_integers = map(s -> parse(Int64, s), row_captures)\n",
    "                board_matrix[i, :] .= row_integers\n",
    "            end\n",
    "            push!(boards, Board(board_matrix))\n",
    "        end\n",
    "        return (bingo_nums, boards)\n",
    "    end\n",
    "end\n",
    "\n",
    "\n",
    "function p1()\n",
    "    bingo_nums, boards = get_day4_inputs()\n",
    "    for num in bingo_nums\n",
    "        map(b -> call_number(b, num), boards)\n",
    "        maybe_winning_board_idx = findfirst(board_has_win, boards)\n",
    "        if maybe_winning_board_idx != nothing\n",
    "            winning_board = boards[maybe_winning_board_idx]\n",
    "            return num * sum(winning_board.board .* winning_board.called_num_idxs)\n",
    "        end\n",
    "    end\n",
    "    throw(\"no board won\")\n",
    "end\n",
    "\n",
    "\n",
    "function p2()\n",
    "    bingo_nums, boards = get_day4_inputs()\n",
    "    num_winning_boards = 0\n",
    "    winning_boards = Set{Board}()\n",
    "\n",
    "    for num in bingo_nums\n",
    "        foreach(b -> call_number(b, num), boards)\n",
    "\n",
    "        recent_winning_board_idxs =\n",
    "            findall(b -> board_has_win(b) && !in(b, winning_boards), boards)\n",
    "\n",
    "        foreach(b -> push!(winning_boards, b), boards[recent_winning_board_idxs])\n",
    "\n",
    "        if num_winning_boards == length(boards) - 1 &&\n",
    "           length(recent_winning_board_idxs) == 1\n",
    "            winning_board = boards[pop!(recent_winning_board_idxs)]\n",
    "            return num * sum(winning_board.board .* winning_board.called_num_idxs)\n",
    "        else\n",
    "            num_winning_boards += length(recent_winning_board_idxs)\n",
    "        end\n",
    "    end\n",
    "end\n",
    "\n",
    "\n",
    "p1(), p2()"
   ]
  }
 ],
 "metadata": {
  "kernelspec": {
   "display_name": "Julia 1.6.2",
   "language": "julia",
   "name": "julia-1.6"
  },
  "language_info": {
   "file_extension": ".jl",
   "mimetype": "application/julia",
   "name": "julia",
   "version": "1.6.2"
  }
 },
 "nbformat": 4,
 "nbformat_minor": 5
}
