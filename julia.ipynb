{
 "cells": [
  {
   "cell_type": "markdown",
   "id": "99a466e9-f1db-4fd2-beff-7b809e0e4c8d",
   "metadata": {},
   "source": [
    "# Advent of Code, 2021!\n",
    "\n",
    "It is truly the most wonderful time of the year! Here is my work for this year's Advent.\n",
    "\n",
    "I am doing it in Julia, Python, Rust (slowly), and hopefully another, more functional language for some problems.\n",
    "\n",
    "Folders hold solutions in languages other than Julia or Python. This is the Julia notebook. Enjoy!"
   ]
  },
  {
   "cell_type": "code",
   "execution_count": 1,
   "id": "9ac50f13-abd6-465f-bbf9-2c55b83d46ca",
   "metadata": {},
   "outputs": [
    {
     "data": {
      "text/plain": [
       "process_inputs (generic function with 1 method)"
      ]
     },
     "execution_count": 1,
     "metadata": {},
     "output_type": "execute_result"
    }
   ],
   "source": [
    "# Helpers, of course\n",
    "\n",
    "function quantify(data; predicate = x -> x)\n",
    "    mapreduce(predicate, +, data)\n",
    "end\n",
    "\n",
    "\n",
    "function process_inputs(day::String; convert::Function=s -> parse(Int64, s))\n",
    "    open(\"inputs/d$day.txt\", \"r\") do io\n",
    "        map(s -> convert(s), eachline(io))\n",
    "    end\n",
    "end"
   ]
  },
  {
   "cell_type": "markdown",
   "id": "918cd621-40bb-4337-87a2-b1e4e6fe31c8",
   "metadata": {},
   "source": [
    "## Day 1!"
   ]
  },
  {
   "cell_type": "code",
   "execution_count": 2,
   "id": "843f9cdc-8c87-4b0e-91a1-049b204a2658",
   "metadata": {},
   "outputs": [
    {
     "name": "stdout",
     "output_type": "stream",
     "text": [
      "1316\n",
      "1344\n"
     ]
    }
   ],
   "source": [
    "function p1()\n",
    "    data = process_inputs(\"01\");\n",
    "    quantify(zip(data, data[2:end]), predicate = ((i, j),) -> j > i)\n",
    "end\n",
    "\n",
    "\n",
    "function p2()\n",
    "    data = process_inputs(\"01\");\n",
    "    quantify(\n",
    "            zip(\n",
    "                zip(data, data[2:end], data[3:end]),\n",
    "                zip(data[2:end], data[3:end], data[4:end]),\n",
    "            ),\n",
    "            predicate = ((i, j),) -> sum(j) > sum(i),\n",
    "        )\n",
    "end\n",
    "\n",
    "println(p1())\n",
    "println(p2())"
   ]
  },
  {
   "cell_type": "markdown",
   "id": "3c2a201c-0d79-401f-b03a-fc49b91f52f4",
   "metadata": {},
   "source": [
    "## Day 2!"
   ]
  },
  {
   "cell_type": "code",
   "execution_count": 3,
   "id": "b514babd-8706-479c-bb89-3252d30190d4",
   "metadata": {},
   "outputs": [
    {
     "name": "stdout",
     "output_type": "stream",
     "text": [
      "1499229\n",
      "1340836560\n"
     ]
    }
   ],
   "source": [
    "function conv_inp(inp)\n",
    "    s = split(inp, \" \")\n",
    "    (s[1], parse(Int64, (s[2])))\n",
    "end\n",
    "\n",
    "data = process_inputs(\"02\", convert=conv_inp)\n",
    "\n",
    "\n",
    "function p1()\n",
    "    x = z = 0;\n",
    "    for (dir, val) in data\n",
    "        if dir == \"forward\"\n",
    "            x += val\n",
    "        elseif dir == \"back\"\n",
    "            x -= val\n",
    "        elseif dir == \"up\"\n",
    "            z -= val\n",
    "        elseif dir == \"down\"\n",
    "            z += val\n",
    "        end\n",
    "    end\n",
    "    x*z\n",
    "end\n",
    "\n",
    "\n",
    "function p2()\n",
    "    x = z = aim = 0;\n",
    "    for (dir, val) in data\n",
    "        if dir == \"forward\"\n",
    "            x += val\n",
    "            z += aim * val\n",
    "        elseif dir == \"up\"\n",
    "            aim -= val\n",
    "        elseif dir == \"down\"\n",
    "            aim += val\n",
    "        end\n",
    "    end\n",
    "    x*z\n",
    "end\n",
    "\n",
    "println(p1())\n",
    "println(p2())"
   ]
  },
  {
   "cell_type": "markdown",
   "id": "8ce79958-3384-491d-909e-a686dcdf86b5",
   "metadata": {},
   "source": [
    "## Day 3!"
   ]
  },
  {
   "cell_type": "code",
   "execution_count": 4,
   "id": "480bef98-c599-49bc-8b1e-7fd5e5fc0048",
   "metadata": {
    "tags": []
   },
   "outputs": [
    {
     "data": {
      "text/plain": [
       "(1307354, 482500)"
      ]
     },
     "execution_count": 4,
     "metadata": {},
     "output_type": "execute_result"
    }
   ],
   "source": [
    "data = process_inputs(\"03\", convert = x -> map(\n",
    "        s -> parse(Int64, s),\n",
    "        split(x, \"\")\n",
    "    ))\n",
    "\n",
    "function to_int(arr::Array{T})::Int64 where {T<:Number}\n",
    "    s = 0\n",
    "    for i in length(arr):-1:1\n",
    "        s += arr[i] * 2^(length(arr) - i)\n",
    "    end\n",
    "    s\n",
    "end\n",
    "\n",
    "function p1(data)\n",
    "    ratios = sum(data) / length(data)\n",
    "    gamma = map(x -> x >= 0.5, ratios)\n",
    "    delta = map(x -> !x, gamma)\n",
    "    to_int(gamma) * to_int(delta)\n",
    "end\n",
    "\n",
    "function p2(data)\n",
    "    gammas = copy(data)\n",
    "    deltas = copy(data)\n",
    "    for i in 1:length(data[1])\n",
    "        gamma_rate = sum(gammas) / length(gammas)\n",
    "        delta_rate = sum(deltas) / length(deltas)\n",
    "\n",
    "        if length(gammas) > 1\n",
    "            filter!(num -> num[i] == (gamma_rate[i] >= 0.5), gammas)\n",
    "        end\n",
    "        if length(deltas) > 1\n",
    "            filter!(num -> num[i] == (delta_rate[i] < 0.5), deltas)\n",
    "        end\n",
    "    end\n",
    "    to_int(gammas[1]) * to_int(deltas[1])\n",
    "end\n",
    "\n",
    "p1(data), p2(data)"
   ]
  }
 ],
 "metadata": {
  "kernelspec": {
   "display_name": "Julia 1.6.2",
   "language": "julia",
   "name": "julia-1.6"
  },
  "language_info": {
   "file_extension": ".jl",
   "mimetype": "application/julia",
   "name": "julia",
   "version": "1.6.2"
  }
 },
 "nbformat": 4,
 "nbformat_minor": 5
}
