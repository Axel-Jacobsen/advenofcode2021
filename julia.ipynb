{
 "cells": [
  {
   "cell_type": "markdown",
   "id": "99a466e9-f1db-4fd2-beff-7b809e0e4c8d",
   "metadata": {},
   "source": [
    "# Advent of Code, 2021!\n",
    "\n",
    "It is truly the most wonderful time of the year! Here is my work for this year's Advent.\n",
    "\n",
    "I am doing it in Julia, Python, Rust (slowly), and hopefully another, more functional language for some problems.\n",
    "\n",
    "Folders hold solutions in languages other than Julia or Python. This is the Julia notebook. Enjoy!"
   ]
  },
  {
   "cell_type": "code",
   "execution_count": 1,
   "id": "9ac50f13-abd6-465f-bbf9-2c55b83d46ca",
   "metadata": {},
   "outputs": [],
   "source": [
    "using JupyterFormatter;\n",
    "enable_autoformat();\n",
    "\n",
    "# Helpers, of course\n",
    "function quantify(predicate::Function, data)\n",
    "    mapreduce(predicate, +, data)\n",
    "end\n",
    "\n",
    "\n",
    "function process_inputs(day::String)\n",
    "    open(\"inputs/d$day.txt\", \"r\") do io\n",
    "        map(s -> parse(Int64, s), eachline(io))\n",
    "    end\n",
    "end\n",
    "\n",
    "function process_inputs(convert::Function, day::String)\n",
    "    open(\"inputs/d$day.txt\", \"r\") do io\n",
    "        map(s -> convert(s), eachline(io))\n",
    "    end\n",
    "end\n",
    "\n",
    "mutable struct ComboIterator\n",
    "    d::Vector\n",
    "    i::Int\n",
    "    j::Int\n",
    "    ComboIterator(d) = length(d) <= 2 ? nothing : new(d, 1, 2)\n",
    "end\n",
    "\n",
    "Base.eltype(::Type{ComboIterator}) = Tuple\n",
    "\n",
    "function Base.length(itr::ComboIterator)::Int64\n",
    "    n = length(itr.d)\n",
    "    bottom_triangle = (n - itr.i - 1) * (n - itr.i) / 2\n",
    "    current_row = n - itr.j\n",
    "    bottom_triangle + current_row + 1\n",
    "end\n",
    "\n",
    "function Base.iterate(itr::ComboIterator, state = (1, 2))\n",
    "    N = length(itr.d)\n",
    "    (i, j) = state\n",
    "\n",
    "    next_i = i\n",
    "    next_j = j + 1\n",
    "    if i == N\n",
    "        return nothing\n",
    "    elseif j == N\n",
    "        next_i = i + 1\n",
    "        next_j = i + 2\n",
    "    end\n",
    "    (itr.i, itr.j) = (next_i, next_j)\n",
    "    (itr.d[i], itr.d[j]), (next_i, next_j)\n",
    "end"
   ]
  },
  {
   "cell_type": "markdown",
   "id": "918cd621-40bb-4337-87a2-b1e4e6fe31c8",
   "metadata": {},
   "source": [
    "## Day 1!"
   ]
  },
  {
   "cell_type": "code",
   "execution_count": 2,
   "id": "843f9cdc-8c87-4b0e-91a1-049b204a2658",
   "metadata": {},
   "outputs": [
    {
     "data": {
      "text/plain": [
       "(1316, 1344)"
      ]
     },
     "execution_count": 2,
     "metadata": {},
     "output_type": "execute_result"
    }
   ],
   "source": [
    "function p1()\n",
    "    data = process_inputs(\"01\")\n",
    "    quantify(((i, j),) -> j > i, zip(data, data[2:end]))\n",
    "end\n",
    "\n",
    "\n",
    "function p2()\n",
    "    data = process_inputs(\"01\")\n",
    "    quantify(((i, j),) -> j > i, zip(data, data[4:end]))\n",
    "end\n",
    "\n",
    "p1(), p2()"
   ]
  },
  {
   "cell_type": "markdown",
   "id": "3c2a201c-0d79-401f-b03a-fc49b91f52f4",
   "metadata": {},
   "source": [
    "## Day 2!"
   ]
  },
  {
   "cell_type": "code",
   "execution_count": 3,
   "id": "b514babd-8706-479c-bb89-3252d30190d4",
   "metadata": {},
   "outputs": [
    {
     "data": {
      "text/plain": [
       "(1499229, 1340836560)"
      ]
     },
     "execution_count": 3,
     "metadata": {},
     "output_type": "execute_result"
    }
   ],
   "source": [
    "function conv_inp(inp)\n",
    "    s = split(inp, \" \")\n",
    "    (s[1], parse(Int64, (s[2])))\n",
    "end\n",
    "\n",
    "data = process_inputs(conv_inp, \"02\")\n",
    "\n",
    "\n",
    "function p1()\n",
    "    x = z = 0\n",
    "    for (dir, val) in data\n",
    "        if dir == \"forward\"\n",
    "            x += val\n",
    "        elseif dir == \"back\"\n",
    "            x -= val\n",
    "        elseif dir == \"up\"\n",
    "            z -= val\n",
    "        elseif dir == \"down\"\n",
    "            z += val\n",
    "        end\n",
    "    end\n",
    "    x * z\n",
    "end\n",
    "\n",
    "\n",
    "function p2()\n",
    "    x = z = aim = 0\n",
    "    for (dir, val) in data\n",
    "        if dir == \"forward\"\n",
    "            x += val\n",
    "            z += aim * val\n",
    "        elseif dir == \"up\"\n",
    "            aim -= val\n",
    "        elseif dir == \"down\"\n",
    "            aim += val\n",
    "        end\n",
    "    end\n",
    "    x * z\n",
    "end\n",
    "\n",
    "p1(), p2()"
   ]
  },
  {
   "cell_type": "markdown",
   "id": "8ce79958-3384-491d-909e-a686dcdf86b5",
   "metadata": {},
   "source": [
    "## Day 3!"
   ]
  },
  {
   "cell_type": "code",
   "execution_count": 4,
   "id": "480bef98-c599-49bc-8b1e-7fd5e5fc0048",
   "metadata": {
    "tags": []
   },
   "outputs": [
    {
     "data": {
      "text/plain": [
       "(1307354, 482500)"
      ]
     },
     "execution_count": 4,
     "metadata": {},
     "output_type": "execute_result"
    }
   ],
   "source": [
    "function to_int(arr::Array{T})::Int64 where {T<:Number}\n",
    "    s = 0\n",
    "    for i = length(arr):-1:1\n",
    "        s += arr[i] * 2^(length(arr) - i)\n",
    "    end\n",
    "    s\n",
    "end\n",
    "\n",
    "function p1()\n",
    "    data = process_inputs(x -> map(s -> parse(Int64, s), split(x, \"\")), \"03\")\n",
    "    ratios = sum(data) / length(data)\n",
    "    gamma = map(x -> x >= 0.5, ratios)\n",
    "    delta = map(x -> !x, gamma)\n",
    "    to_int(gamma) * to_int(delta)\n",
    "end\n",
    "\n",
    "function p2()\n",
    "    data = process_inputs(x -> map(s -> parse(Int64, s), split(x, \"\")), \"03\")\n",
    "    gammas = copy(data)\n",
    "    deltas = copy(data)\n",
    "    for i = 1:length(data[1])\n",
    "        gamma_rate = sum(gammas) / length(gammas)\n",
    "        delta_rate = sum(deltas) / length(deltas)\n",
    "\n",
    "        if length(gammas) > 1\n",
    "            filter!(num -> num[i] == (gamma_rate[i] >= 0.5), gammas)\n",
    "        end\n",
    "        if length(deltas) > 1\n",
    "            filter!(num -> num[i] == (delta_rate[i] < 0.5), deltas)\n",
    "        end\n",
    "    end\n",
    "    to_int(gammas[1]) * to_int(deltas[1])\n",
    "end\n",
    "\n",
    "p1(), p2()"
   ]
  },
  {
   "cell_type": "markdown",
   "id": "f1523f14-c70c-4e31-860d-a355f120c525",
   "metadata": {},
   "source": [
    "## Day 4!"
   ]
  },
  {
   "cell_type": "code",
   "execution_count": 5,
   "id": "516c5de0-8ac3-4c4c-b3ad-c8528d3ea1f8",
   "metadata": {
    "tags": []
   },
   "outputs": [
    {
     "data": {
      "text/plain": [
       "(67716, 1830)"
      ]
     },
     "execution_count": 5,
     "metadata": {},
     "output_type": "execute_result"
    }
   ],
   "source": [
    "mutable struct Board{T<:Integer}\n",
    "    board::Matrix{T}\n",
    "    called_num_idxs::Matrix{T}\n",
    "    Board(board_matrix::Matrix{T}) where {T<:Real} =\n",
    "        new{T}(board_matrix, ones(T, size(board_matrix)))\n",
    "end\n",
    "\n",
    "\n",
    "Base.show(io::IO, b::Board) =\n",
    "    print(io, \"Board(board=$(b.board), called_nums=$(b.called_num_idxs))\")\n",
    "\n",
    "\n",
    "function call_number(b::Board, num::T)::Bool where {T<:Integer}\n",
    "    idx = findfirst(n -> n == num, b.board)\n",
    "    if idx == nothing\n",
    "        return false\n",
    "    end\n",
    "    b.called_num_idxs[idx] = 0\n",
    "    return true\n",
    "end\n",
    "\n",
    "\n",
    "function board_has_win(b::Board)::Bool\n",
    "    for row in eachrow(b.called_num_idxs)\n",
    "        if row == zeros(5)\n",
    "            return true\n",
    "        end\n",
    "    end\n",
    "\n",
    "    for col in eachcol(b.called_num_idxs)\n",
    "        if col == zeros(5)\n",
    "            return true\n",
    "        end\n",
    "    end\n",
    "\n",
    "    return false\n",
    "end\n",
    "\n",
    "\n",
    "function get_day4_inputs()::Tuple{Array{Int64},Array{Board}}\n",
    "    open(\"inputs/d04.txt\", \"r\") do io\n",
    "        bingo_nums = map(s -> parse(Int64, s), split(readline(io), \",\"))\n",
    "        rest = strip(read(io, String))\n",
    "\n",
    "        boards = []\n",
    "        for board in split(rest, \"\\n\\n\")\n",
    "            board_matrix = zeros(Int64, 5, 5)\n",
    "            for (i, row) in enumerate(split(board, \"\\n\"))\n",
    "                # there is probably a cleaner regex, but this is A-OK w/ me\n",
    "                row_regex = r\"\\s*(\\d+)\\s*(\\d+)\\s*(\\d+)\\s*(\\d+)\\s*(\\d+)\"\n",
    "                row_captures = match(row_regex, row).captures\n",
    "                row_integers = map(s -> parse(Int64, s), row_captures)\n",
    "                board_matrix[i, :] .= row_integers\n",
    "            end\n",
    "            push!(boards, Board(board_matrix))\n",
    "        end\n",
    "        return (bingo_nums, boards)\n",
    "    end\n",
    "end\n",
    "\n",
    "\n",
    "function p1()\n",
    "    bingo_nums, boards = get_day4_inputs()\n",
    "    for num in bingo_nums\n",
    "        map(b -> call_number(b, num), boards)\n",
    "        maybe_winning_board_idx = findfirst(board_has_win, boards)\n",
    "        if maybe_winning_board_idx != nothing\n",
    "            winning_board = boards[maybe_winning_board_idx]\n",
    "            return num * sum(winning_board.board .* winning_board.called_num_idxs)\n",
    "        end\n",
    "    end\n",
    "    throw(\"no board won\")\n",
    "end\n",
    "\n",
    "\n",
    "function p2()\n",
    "    bingo_nums, boards = get_day4_inputs()\n",
    "    num_winning_boards = 0\n",
    "    winning_boards = Set{Board}()\n",
    "\n",
    "    for num in bingo_nums\n",
    "        foreach(b -> call_number(b, num), boards)\n",
    "\n",
    "        recent_winning_board_idxs =\n",
    "            findall(b -> board_has_win(b) && !in(b, winning_boards), boards)\n",
    "\n",
    "        foreach(b -> push!(winning_boards, b), boards[recent_winning_board_idxs])\n",
    "\n",
    "        if num_winning_boards == length(boards) - 1 &&\n",
    "           length(recent_winning_board_idxs) == 1\n",
    "            winning_board = boards[pop!(recent_winning_board_idxs)]\n",
    "            return num * sum(winning_board.board .* winning_board.called_num_idxs)\n",
    "        else\n",
    "            num_winning_boards += length(recent_winning_board_idxs)\n",
    "        end\n",
    "    end\n",
    "end\n",
    "\n",
    "\n",
    "p1(), p2()"
   ]
  },
  {
   "cell_type": "markdown",
   "id": "afdf8b9d-3ff5-4e48-b20d-223e346af0b6",
   "metadata": {},
   "source": [
    "## Day 5!\n",
    "\n",
    "I gotta think harder about this one. It is probably simple but for some reason its been giving me trouble, and hasn't been as fun as the others. I'll come back to it once I have a break in finals."
   ]
  },
  {
   "cell_type": "code",
   "execution_count": 6,
   "id": "2a1297e1-3646-4c37-8989-a17d8b15f693",
   "metadata": {},
   "outputs": [],
   "source": [
    "# dunno if i will continue to use\n",
    "\n",
    "# function segments_intersect(L1::LineSegment, L2::LineSegment)::Bool\n",
    "#     tn =\n",
    "#         (L1.P1.x - L2.P1.x) * (L2.P1.y - L2.P2.y) -\n",
    "#         (L1.P1.y - L2.P1.y) * (L2.P1.x - L2.P2.x)\n",
    "#     un =\n",
    "#         (L1.P1.x - L2.P1.x) * (L1.P1.y - L1.P2.y) -\n",
    "#         (L1.P1.y - L2.P1.y) * (L1.P1.x - L1.P2.x)\n",
    "#     D =\n",
    "#         (L1.P1.x - L1.P2.x) * (L2.P1.y - L2.P2.y) -\n",
    "#         (L1.P1.y - L1.P2.y) * (L2.P1.x - L2.P2.x)\n",
    "#     println(L1, L2, D)\n",
    "#     t, u = tn / D, un / D\n",
    "\n",
    "#     if 0 ≤ tn ≤ D && 0 ≤ un ≤ D\n",
    "#         x_cross, y_cross =\n",
    "#             L1.P1.x + t * (L1.P2.x - L1.P1.x), L1.P1.y + t * (L1.P2.y - L1.P1.y)\n",
    "#         println(tn, \" \", un, \" \", x_cross, \" \", y_cross)\n",
    "#         return is_integer(x_cross) && is_integer(y_cross)\n",
    "#     end\n",
    "#     false\n",
    "# end"
   ]
  },
  {
   "cell_type": "code",
   "execution_count": 101,
   "id": "c0e5fdab-8d40-4877-93a4-32a6fd8c4609",
   "metadata": {
    "tags": []
   },
   "outputs": [
    {
     "name": "stdout",
     "output_type": "stream",
     "text": [
      "|0,9|\n",
      "|5,4|\n",
      "|7,4|\n",
      "|1,9|\n",
      "|2,9|\n",
      "|3,4|\n",
      "6\n"
     ]
    },
    {
     "data": {
      "text/plain": [
       "10×10 adjoint(::Matrix{Int64}) with eltype Int64:\n",
       " 0  0  0  0  0  0  0  1  0  0\n",
       " 0  0  1  0  0  0  0  1  0  0\n",
       " 0  0  1  0  0  1  0  1  0  0\n",
       " 0  0  0  0  0  1  0  1  0  0\n",
       " 0  1  1  2  1  2  1  2  1  1\n",
       " 0  0  0  0  0  1  0  0  0  0\n",
       " 0  0  0  0  0  0  0  0  0  0\n",
       " 0  0  0  0  0  0  0  0  0  0\n",
       " 0  0  0  0  0  0  0  0  0  0\n",
       " 2  2  2  1  1  1  0  0  0  0"
      ]
     },
     "execution_count": 101,
     "metadata": {},
     "output_type": "execute_result"
    }
   ],
   "source": [
    "function get_d5_data()::Vector{LineSegment}\n",
    "    data = process_inputs(\"05test\") do s\n",
    "        r1_str, r2_str = split(s, \" -> \")\n",
    "        x1, y1 = map(v -> parse(Int64, v), split(r1_str, \",\"))\n",
    "        x2, y2 = map(v -> parse(Int64, v), split(r2_str, \",\"))\n",
    "        x1 ≤ x2 ? LineSegment(Point(x1, y1), Point(x2, y2)) :\n",
    "        LineSegment(Point(x2, y2), Point(x1, y1))\n",
    "    end\n",
    "    sort(data, by = LS -> LS.P1.x)\n",
    "end\n",
    "\n",
    "struct Point{T<:Integer}\n",
    "    x::T\n",
    "    y::T\n",
    "end\n",
    "\n",
    "struct LineSegment{T<:Integer}\n",
    "    P1::Point{T}\n",
    "    P2::Point{T}\n",
    "end\n",
    "\n",
    "Base.show(io::IO, P::Point) = print(io, \"|$(P.x),$(P.y)|\")\n",
    "Base.show(io::IO, LS::LineSegment) = print(io, \"|$(LS.P1) -> $(LS.P2)|\")\n",
    "\n",
    "is_integer(x::T) where {T<:Number} = floor(Int, x) == x\n",
    "is_horz(LS::LineSegment) = LS.P1.y == LS.P2.y\n",
    "is_vert(LS::LineSegment) = LS.P1.x == LS.P2.x\n",
    "\n",
    "function horz_vert_cross(LS1::LineSegment, LS2::LineSegment)::Set{Point{Int}}\n",
    "    \"\"\"\n",
    "    The xs are sorted by get_d5_data, but ys can not be sorted as well (otherwise,\n",
    "    the points would get all messed up :(\n",
    "\n",
    "    This general question has lead me to a lot of gross looking code - I mean, just\n",
    "    look at the spaghetti below. There must be a better way to do this.\n",
    "    \"\"\"\n",
    "    if is_horz(LS1) && is_vert(LS2)\n",
    "        LS_min_y, LS_max_y = min(LS2.P1.y, LS2.P2.y), max(LS2.P1.y, LS2.P2.y)\n",
    "        segs_cross = LS1.P1.x ≤ LS2.P1.x ≤ LS1.P2.x && LS_min_y ≤ LS1.P1.y ≤ LS_max_y\n",
    "        if segs_cross\n",
    "            return Set{Point}([Point(LS2.P1.x, LS1.P1.y)])\n",
    "        end\n",
    "    elseif is_vert(LS1) && is_horz(LS2)\n",
    "        LS_min_y, LS_max_y = min(LS1.P1.y, LS1.P2.y), max(LS1.P1.y, LS1.P2.y)\n",
    "        segs_cross = LS2.P1.x ≤ LS1.P1.x ≤ LS2.P2.x && LS_min_y ≤ LS2.P1.y ≤ LS_max_y\n",
    "        if segs_cross\n",
    "            return Set{Point}([Point(LS1.P1.x, LS2.P1.y)])\n",
    "        end\n",
    "    elseif is_horz(LS1) && is_horz(LS2)\n",
    "        if LS1.P1.y != LS2.P2.y\n",
    "            return Set{Point}()\n",
    "        end\n",
    "        LS1_start, LS1_end = min(LS1.P1.x, LS1.P2.x), max(LS1.P1.x, LS1.P2.x)\n",
    "        LS2_start, LS2_end = min(LS2.P1.x, LS2.P2.x), max(LS2.P1.x, LS2.P2.x)\n",
    "        return Set{Point}(\n",
    "            map(x -> Point(x, LS1.P1.y), intersect(LS1_start:LS1_end, LS2_start:LS2_end)),\n",
    "        )\n",
    "    else\n",
    "        if LS1.P1.x != LS2.P2.x\n",
    "            return Set{Point}()\n",
    "        end\n",
    "        LS1_start, LS1_end = min(LS1.P1.y, LS1.P2.y), max(LS1.P1.y, LS1.P2.y)\n",
    "        LS2_start, LS2_end = min(LS2.P1.y, LS2.P2.y), max(LS2.P1.y, LS2.P2.y)\n",
    "        return Set{Point}(\n",
    "            map(y -> Point(LS1.P1.x, y), intersect(LS1_start:LS1_end, LS2_start:LS2_end)),\n",
    "        )\n",
    "    end\n",
    "    return Set{Point}()\n",
    "end\n",
    "\n",
    "function print_grid(LSS::Vector{LineSegment})\n",
    "    min_x = minimum(reduce(vcat, map(LS -> [LS.P1.x, LS.P2.x], LSS)))\n",
    "    max_x = maximum(reduce(vcat, map(LS -> [LS.P1.x, LS.P2.x], LSS)))\n",
    "    min_y = minimum(reduce(vcat, map(LS -> [LS.P1.y, LS.P2.y], LSS)))\n",
    "    max_y = maximum(reduce(vcat, map(LS -> [LS.P1.y, LS.P2.y], LSS)))\n",
    "\n",
    "    grid = zeros(Int, max_x - min_x + 1, max_y - min_y + 1)\n",
    "\n",
    "    for LS in LSS\n",
    "        if is_vert(LS)\n",
    "            LS_min_y, LS_max_y = min(LS.P1.y, LS.P2.y), max(LS.P1.y, LS.P2.y)\n",
    "            X, Y_rng = LS.P1.x - min_x + 1, (LS_min_y:LS_max_y) .- min_y .+ 1\n",
    "            grid[X, Y_rng] .+= ones(Int, LS_max_y - LS_min_y + 1)\n",
    "        else\n",
    "            X_rng, Y = (LS.P1.x:LS.P2.x) .- min_x .+ 1, LS.P1.y - min_y + 1\n",
    "            grid[X_rng, Y] .+= ones(Int, LS.P2.x - LS.P1.x + 1)\n",
    "        end\n",
    "    end\n",
    "    grid'\n",
    "end\n",
    "\n",
    "function p1()\n",
    "    data = filter(LS -> LS.P1.x == LS.P2.x || LS.P1.y == LS.P2.y, get_d5_data())\n",
    "    crossings = Set{Point}()\n",
    "    for (LS1, LS2) in ComboIterator(data)\n",
    "        crossing_points = horz_vert_cross(LS1, LS2)\n",
    "        union!(crossings, crossing_points)\n",
    "    end\n",
    "    crossings\n",
    "end\n",
    "\n",
    "data = filter(LS -> LS.P1.x == LS.P2.x || LS.P1.y == LS.P2.y, get_d5_data())\n",
    "foreach(x -> println(x), p1())\n",
    "println(length(p1()))\n",
    "println(count(print_grid(data)\n",
    "print_grid(data)"
   ]
  },
  {
   "cell_type": "markdown",
   "id": "11b727f3-0b8d-4897-8b9f-9355b1f3b9e6",
   "metadata": {},
   "source": [
    "## Day 6!"
   ]
  },
  {
   "cell_type": "code",
   "execution_count": 8,
   "id": "6efa457c-b123-4555-9460-9dc55ee8c777",
   "metadata": {},
   "outputs": [
    {
     "data": {
      "text/plain": [
       "(386536, 1732821262171)"
      ]
     },
     "execution_count": 8,
     "metadata": {},
     "output_type": "execute_result"
    }
   ],
   "source": [
    "using Memoize\n",
    "\n",
    "function get_d6_data()\n",
    "    inp_str = open(io -> read(io, String), \"inputs/d06.txt\", \"r\") |> strip\n",
    "    map(s -> parse(Int, s), split(inp_str, \",\"))\n",
    "end\n",
    "\n",
    "@memoize function lanternfish(internal_fish_timer::Int, n_days_left::Int)::Int\n",
    "    \"\"\"\n",
    "    memoizing this would really make it a lot faster (maybe? how often are (IFT, NDL) pairs\n",
    "    showing up?\n",
    "    \"\"\"\n",
    "    if internal_fish_timer >= n_days_left\n",
    "        return 1\n",
    "    end\n",
    "    lanternfish(8, n_days_left - internal_fish_timer - 1) +\n",
    "    lanternfish(6, n_days_left - internal_fish_timer - 1)\n",
    "end\n",
    "\n",
    "function p1()\n",
    "    # Internal Fish Timer ==> IFT\n",
    "    input = get_d6_data()\n",
    "    mapreduce(IFT -> lanternfish(IFT, 80), +, input)\n",
    "end\n",
    "\n",
    "function p2()\n",
    "    input = get_d6_data()\n",
    "    mapreduce(IFT -> lanternfish(IFT, 256), +, input)\n",
    "end\n",
    "p1(), p2()"
   ]
  },
  {
   "cell_type": "markdown",
   "id": "3ed5359c-e689-4c97-9f20-a28c7cf8b894",
   "metadata": {},
   "source": [
    "Using memoization to make things quicker. Out of interest, here is the size of our cache:"
   ]
  },
  {
   "cell_type": "code",
   "execution_count": 9,
   "id": "918ff1a5-4023-461c-b6a4-f26849073577",
   "metadata": {},
   "outputs": [
    {
     "data": {
      "text/plain": [
       "IdDict{Any, Any} with 516 entries:\n",
       "  (6, 96)  => 3612\n",
       "  (6, 171) => 2395409\n",
       "  (8, 154) => 460699\n",
       "  (8, 227) => 268920395\n",
       "  (6, 55)  => 106\n",
       "  (8, 166) => 1296477\n",
       "  (6, 116) => 19600\n",
       "  (6, 9)   => 2\n",
       "  (8, 242) => 990284884\n",
       "  (6, 86)  => 1421\n",
       "  (8, 53)  => 70\n",
       "  (6, 216) => 122267142\n",
       "  (6, 23)  => 7\n",
       "  (8, 16)  => 3\n",
       "  (8, 83)  => 950\n",
       "  (8, 17)  => 3\n",
       "  (6, 109) => 10599\n",
       "  (8, 200) => 25247007\n",
       "  (6, 122) => 34255\n",
       "  (6, 162) => 1098932\n",
       "  (6, 154) => 556666\n",
       "  (8, 205) => 39025282\n",
       "  (6, 140) => 166401\n",
       "  (6, 65)  => 236\n",
       "  (8, 5)   => 1\n",
       "  ⋮        => ⋮"
      ]
     },
     "execution_count": 9,
     "metadata": {},
     "output_type": "execute_result"
    }
   ],
   "source": [
    "memoize_cache(lanternfish)"
   ]
  },
  {
   "cell_type": "markdown",
   "id": "ee1cf1d5-4678-4d72-8a24-67944674f1ad",
   "metadata": {},
   "source": [
    "Not too bad. Fairly small, considering the exponential growth. A tremendous amount of repeating occurs, making this a prime usecase for a cache."
   ]
  },
  {
   "cell_type": "markdown",
   "id": "146f03cc-57d7-46cb-a10c-04224943a697",
   "metadata": {},
   "source": [
    "## Day 7\n",
    "\n",
    "Our problem is\n",
    "$$\n",
    "    C(x;\\mathbf{p}) = \\sum_{i=0}^N |p_i - x|,  \\quad MFC =\\min_x C(x;\\mathbf{p}), \\quad x, p_i \\in \\mathbb{Z}\n",
    "$$\n",
    "where $\\mathbf{p}$ is a vector of the current positions $p_i$ of the Crab Submarines, $C(x)$ is the fuel cost for target position $x$, and $MFC$ is the minimum fuel cost possible.\n",
    "\n",
    "but...\n",
    "\n",
    "Ignore mathin' and just do some map reducin'"
   ]
  },
  {
   "cell_type": "code",
   "execution_count": 10,
   "id": "16013a4e-1f2e-49a0-85f3-dff4c42461e8",
   "metadata": {},
   "outputs": [
    {
     "data": {
      "text/plain": [
       "(352254, 9.9053143e7)"
      ]
     },
     "execution_count": 10,
     "metadata": {},
     "output_type": "execute_result"
    }
   ],
   "source": [
    "function get_d7_data()\n",
    "    inp_str = open(io -> read(io, String), \"inputs/d07.txt\", \"r\") |> strip\n",
    "    map(s -> parse(Int, s), split(inp_str, \",\"))\n",
    "end\n",
    "\n",
    "crab_submarine_positions = get_d7_data()\n",
    "\n",
    "min_cost(p::Vector{Int}, C::Function) = minimum(map(x -> C(x, p), minimum(p):maximum(p)))\n",
    "\n",
    "function p1()\n",
    "    C(x::Int, p::Vector{Int}) = sum(abs.(x .- p))\n",
    "    min_cost(crab_submarine_positions, C)\n",
    "end\n",
    "\n",
    "\n",
    "function p2()\n",
    "    function C(x::Int, p::Vector{Int})\n",
    "        N = abs.(x .- p)\n",
    "        sum(N .* (N .+ 1)) / 2\n",
    "    end\n",
    "    min_cost(crab_submarine_positions, C)\n",
    "end\n",
    "\n",
    "\n",
    "p1(), p2()"
   ]
  }
 ],
 "metadata": {
  "kernelspec": {
   "display_name": "Julia 1.6.2",
   "language": "julia",
   "name": "julia-1.6"
  },
  "language_info": {
   "file_extension": ".jl",
   "mimetype": "application/julia",
   "name": "julia",
   "version": "1.6.2"
  }
 },
 "nbformat": 4,
 "nbformat_minor": 5
}
