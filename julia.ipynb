{
 "cells": [
  {
   "cell_type": "markdown",
   "id": "99a466e9-f1db-4fd2-beff-7b809e0e4c8d",
   "metadata": {},
   "source": [
    "# Advent of Code, 2021!\n",
    "\n",
    "It is truly the most wonderful time of the year! Here is my work for this year's Advent.\n",
    "\n",
    "I am doing it in Julia, Rust (slowly), and hopefully another, more functional language for some problems.\n",
    "\n",
    "Folders hold solutions in languages other than Julia. This is the Julia notebook. Enjoy!"
   ]
  },
  {
   "cell_type": "code",
   "execution_count": 1,
   "id": "9ac50f13-abd6-465f-bbf9-2c55b83d46ca",
   "metadata": {},
   "outputs": [
    {
     "data": {
      "text/plain": [
       "process_inputs (generic function with 2 methods)"
      ]
     },
     "execution_count": 1,
     "metadata": {},
     "output_type": "execute_result"
    }
   ],
   "source": [
    "using JupyterFormatter;\n",
    "enable_autoformat();\n",
    "\n",
    "# Helpers, of course\n",
    "function quantify(predicate::Function, data)\n",
    "    mapreduce(predicate, +, data)\n",
    "end\n",
    "\n",
    "\n",
    "function process_inputs(day::String)\n",
    "    open(\"inputs/d$day.txt\", \"r\") do io\n",
    "        map(s -> parse(Int64, s), eachline(io))\n",
    "    end\n",
    "end\n",
    "\n",
    "function process_inputs(convert::Function, day::String)\n",
    "    open(\"inputs/d$day.txt\", \"r\") do io\n",
    "        map(s -> convert(s), eachline(io))\n",
    "    end\n",
    "end"
   ]
  },
  {
   "cell_type": "markdown",
   "id": "918cd621-40bb-4337-87a2-b1e4e6fe31c8",
   "metadata": {},
   "source": [
    "## Day 1!"
   ]
  },
  {
   "cell_type": "code",
   "execution_count": 2,
   "id": "843f9cdc-8c87-4b0e-91a1-049b204a2658",
   "metadata": {},
   "outputs": [
    {
     "data": {
      "text/plain": [
       "(1316, 1344)"
      ]
     },
     "execution_count": 2,
     "metadata": {},
     "output_type": "execute_result"
    }
   ],
   "source": [
    "function p1()\n",
    "    data = process_inputs(\"01\")\n",
    "    quantify(((i, j),) -> j > i, zip(data, data[2:end]))\n",
    "end\n",
    "\n",
    "\n",
    "function p2()\n",
    "    data = process_inputs(\"01\")\n",
    "    quantify(((i, j),) -> j > i, zip(data, data[4:end]))\n",
    "end\n",
    "\n",
    "p1(), p2()"
   ]
  },
  {
   "cell_type": "markdown",
   "id": "3c2a201c-0d79-401f-b03a-fc49b91f52f4",
   "metadata": {},
   "source": [
    "## Day 2!"
   ]
  },
  {
   "cell_type": "code",
   "execution_count": 3,
   "id": "b514babd-8706-479c-bb89-3252d30190d4",
   "metadata": {},
   "outputs": [
    {
     "data": {
      "text/plain": [
       "(1499229, 1340836560)"
      ]
     },
     "execution_count": 3,
     "metadata": {},
     "output_type": "execute_result"
    }
   ],
   "source": [
    "function conv_inp(inp)\n",
    "    s = split(inp, \" \")\n",
    "    (s[1], parse(Int64, (s[2])))\n",
    "end\n",
    "\n",
    "data = process_inputs(conv_inp, \"02\")\n",
    "\n",
    "\n",
    "function p1()\n",
    "    x = z = 0\n",
    "    for (dir, val) in data\n",
    "        if dir == \"forward\"\n",
    "            x += val\n",
    "        elseif dir == \"back\"\n",
    "            x -= val\n",
    "        elseif dir == \"up\"\n",
    "            z -= val\n",
    "        elseif dir == \"down\"\n",
    "            z += val\n",
    "        end\n",
    "    end\n",
    "    x * z\n",
    "end\n",
    "\n",
    "\n",
    "function p2()\n",
    "    x = z = aim = 0\n",
    "    for (dir, val) in data\n",
    "        if dir == \"forward\"\n",
    "            x += val\n",
    "            z += aim * val\n",
    "        elseif dir == \"up\"\n",
    "            aim -= val\n",
    "        elseif dir == \"down\"\n",
    "            aim += val\n",
    "        end\n",
    "    end\n",
    "    x * z\n",
    "end\n",
    "\n",
    "p1(), p2()"
   ]
  },
  {
   "cell_type": "markdown",
   "id": "8ce79958-3384-491d-909e-a686dcdf86b5",
   "metadata": {},
   "source": [
    "## Day 3!"
   ]
  },
  {
   "cell_type": "code",
   "execution_count": 4,
   "id": "480bef98-c599-49bc-8b1e-7fd5e5fc0048",
   "metadata": {
    "tags": []
   },
   "outputs": [
    {
     "data": {
      "text/plain": [
       "(1307354, 482500)"
      ]
     },
     "execution_count": 4,
     "metadata": {},
     "output_type": "execute_result"
    }
   ],
   "source": [
    "function to_int(arr::Array{T})::Int64 where {T<:Number}\n",
    "    s = 0\n",
    "    for i = length(arr):-1:1\n",
    "        s += arr[i] * 2^(length(arr) - i)\n",
    "    end\n",
    "    s\n",
    "end\n",
    "\n",
    "function p1()\n",
    "    data = process_inputs(x -> map(s -> parse(Int64, s), split(x, \"\")), \"03\")\n",
    "    ratios = sum(data) / length(data)\n",
    "    gamma = map(x -> x >= 0.5, ratios)\n",
    "    delta = map(x -> !x, gamma)\n",
    "    to_int(gamma) * to_int(delta)\n",
    "end\n",
    "\n",
    "function p2()\n",
    "    data = process_inputs(x -> map(s -> parse(Int64, s), split(x, \"\")), \"03\")\n",
    "    gammas = copy(data)\n",
    "    deltas = copy(data)\n",
    "    for i = 1:length(data[1])\n",
    "        gamma_rate = sum(gammas) / length(gammas)\n",
    "        delta_rate = sum(deltas) / length(deltas)\n",
    "\n",
    "        if length(gammas) > 1\n",
    "            filter!(num -> num[i] == (gamma_rate[i] >= 0.5), gammas)\n",
    "        end\n",
    "        if length(deltas) > 1\n",
    "            filter!(num -> num[i] == (delta_rate[i] < 0.5), deltas)\n",
    "        end\n",
    "    end\n",
    "    to_int(gammas[1]) * to_int(deltas[1])\n",
    "end\n",
    "\n",
    "p1(), p2()"
   ]
  },
  {
   "cell_type": "markdown",
   "id": "f1523f14-c70c-4e31-860d-a355f120c525",
   "metadata": {},
   "source": [
    "## Day 4!"
   ]
  },
  {
   "cell_type": "code",
   "execution_count": 5,
   "id": "516c5de0-8ac3-4c4c-b3ad-c8528d3ea1f8",
   "metadata": {
    "tags": []
   },
   "outputs": [
    {
     "data": {
      "text/plain": [
       "(67716, 1830)"
      ]
     },
     "execution_count": 5,
     "metadata": {},
     "output_type": "execute_result"
    }
   ],
   "source": [
    "mutable struct Board{T<:Integer}\n",
    "    board::Matrix{T}\n",
    "    called_num_idxs::Matrix{T}\n",
    "    Board(board_matrix::Matrix{T}) where {T<:Real} =\n",
    "        new{T}(board_matrix, ones(T, size(board_matrix)))\n",
    "end\n",
    "\n",
    "\n",
    "Base.show(io::IO, b::Board) =\n",
    "    print(io, \"Board(board=$(b.board), called_nums=$(b.called_num_idxs))\")\n",
    "\n",
    "\n",
    "function call_number(b::Board, num::T)::Bool where {T<:Integer}\n",
    "    idx = findfirst(n -> n == num, b.board)\n",
    "    if idx == nothing\n",
    "        return false\n",
    "    end\n",
    "    b.called_num_idxs[idx] = 0\n",
    "    return true\n",
    "end\n",
    "\n",
    "\n",
    "function board_has_win(b::Board)::Bool\n",
    "    for row in eachrow(b.called_num_idxs)\n",
    "        if row == zeros(5)\n",
    "            return true\n",
    "        end\n",
    "    end\n",
    "\n",
    "    for col in eachcol(b.called_num_idxs)\n",
    "        if col == zeros(5)\n",
    "            return true\n",
    "        end\n",
    "    end\n",
    "\n",
    "    return false\n",
    "end\n",
    "\n",
    "\n",
    "function get_day4_inputs()::Tuple{Array{Int64},Array{Board}}\n",
    "    open(\"inputs/d04.txt\", \"r\") do io\n",
    "        bingo_nums = map(s -> parse(Int64, s), split(readline(io), \",\"))\n",
    "        rest = strip(read(io, String))\n",
    "\n",
    "        boards = []\n",
    "        for board in split(rest, \"\\n\\n\")\n",
    "            board_matrix = zeros(Int64, 5, 5)\n",
    "            for (i, row) in enumerate(split(board, \"\\n\"))\n",
    "                # there is probably a cleaner regex, but this is A-OK w/ me\n",
    "                row_regex = r\"\\s*(\\d+)\\s*(\\d+)\\s*(\\d+)\\s*(\\d+)\\s*(\\d+)\"\n",
    "                row_captures = match(row_regex, row).captures\n",
    "                row_integers = map(s -> parse(Int64, s), row_captures)\n",
    "                board_matrix[i, :] .= row_integers\n",
    "            end\n",
    "            push!(boards, Board(board_matrix))\n",
    "        end\n",
    "        return (bingo_nums, boards)\n",
    "    end\n",
    "end\n",
    "\n",
    "\n",
    "function p1()\n",
    "    bingo_nums, boards = get_day4_inputs()\n",
    "    for num in bingo_nums\n",
    "        map(b -> call_number(b, num), boards)\n",
    "        maybe_winning_board_idx = findfirst(board_has_win, boards)\n",
    "        if maybe_winning_board_idx != nothing\n",
    "            winning_board = boards[maybe_winning_board_idx]\n",
    "            return num * sum(winning_board.board .* winning_board.called_num_idxs)\n",
    "        end\n",
    "    end\n",
    "    throw(\"no board won\")\n",
    "end\n",
    "\n",
    "\n",
    "function p2()\n",
    "    bingo_nums, boards = get_day4_inputs()\n",
    "    num_winning_boards = 0\n",
    "    winning_boards = Set{Board}()\n",
    "\n",
    "    for num in bingo_nums\n",
    "        foreach(b -> call_number(b, num), boards)\n",
    "\n",
    "        recent_winning_board_idxs =\n",
    "            findall(b -> board_has_win(b) && !in(b, winning_boards), boards)\n",
    "\n",
    "        foreach(b -> push!(winning_boards, b), boards[recent_winning_board_idxs])\n",
    "\n",
    "        if num_winning_boards == length(boards) - 1 &&\n",
    "           length(recent_winning_board_idxs) == 1\n",
    "            winning_board = boards[pop!(recent_winning_board_idxs)]\n",
    "            return num * sum(winning_board.board .* winning_board.called_num_idxs)\n",
    "        else\n",
    "            num_winning_boards += length(recent_winning_board_idxs)\n",
    "        end\n",
    "    end\n",
    "end\n",
    "\n",
    "\n",
    "p1(), p2()"
   ]
  },
  {
   "cell_type": "markdown",
   "id": "afdf8b9d-3ff5-4e48-b20d-223e346af0b6",
   "metadata": {},
   "source": [
    "## Day 5!"
   ]
  },
  {
   "cell_type": "code",
   "execution_count": 6,
   "id": "c0e5fdab-8d40-4877-93a4-32a6fd8c4609",
   "metadata": {
    "tags": []
   },
   "outputs": [
    {
     "data": {
      "text/plain": [
       "(4873, 19472)"
      ]
     },
     "execution_count": 6,
     "metadata": {},
     "output_type": "execute_result"
    }
   ],
   "source": [
    "function get_d5_data()::Vector{LineSegment}\n",
    "    data = process_inputs(\"05\") do s\n",
    "        r1_str, r2_str = split(s, \" -> \")\n",
    "        x1, y1 = map(v -> parse(Int64, v), split(r1_str, \",\"))\n",
    "        x2, y2 = map(v -> parse(Int64, v), split(r2_str, \",\"))\n",
    "        x1 ≤ x2 ? LineSegment(Point(x1, y1), Point(x2, y2)) :\n",
    "        LineSegment(Point(x2, y2), Point(x1, y1))\n",
    "    end\n",
    "    sort(data, by = LS -> LS.P1.x)\n",
    "end\n",
    "\n",
    "struct Point{T<:Integer}\n",
    "    x::T\n",
    "    y::T\n",
    "end\n",
    "\n",
    "struct LineSegment{T<:Integer}\n",
    "    P1::Point{T}\n",
    "    P2::Point{T}\n",
    "end\n",
    "\n",
    "is_horz(LS::LineSegment) = LS.P1.y == LS.P2.y\n",
    "is_vert(LS::LineSegment) = LS.P1.x == LS.P2.x\n",
    "\n",
    "function get_points(LS::LineSegment)::Base.Iterators.Zip\n",
    "    step = LS.P1.y ≤ LS.P2.y ? 1 : -1\n",
    "    if is_horz(LS)\n",
    "        zip(LS.P1.x:LS.P2.x, [LS.P1.y for _ = LS.P1.x:LS.P2.x])\n",
    "    elseif is_vert(LS)\n",
    "        zip([LS.P1.x for _ = LS.P1.y:step:LS.P2.y], LS.P1.y:step:LS.P2.y)\n",
    "    else\n",
    "        zip(LS.P1.x:LS.P2.x, LS.P1.y:step:LS.P2.y)\n",
    "    end\n",
    "end\n",
    "\n",
    "function crosses(LS1::LineSegment, LS2::LineSegment)::Set{Tuple{Int,Int}}\n",
    "    # optimization: check if LS1 and LS2 intersect at 1 point or multiple\n",
    "    # if 1 point, can speed this up quite a bit\n",
    "    # otherwise, this is fast enough for now\n",
    "    LS1_points = get_points(LS1)\n",
    "    LS2_points = get_points(LS2)\n",
    "    Set(intersect(LS1_points, LS2_points))\n",
    "end\n",
    "\n",
    "function p(data)\n",
    "    crossings = Set{Tuple{Int,Int}}()\n",
    "    current = Set{LineSegment}()\n",
    "    for LS in data\n",
    "        for viewed_LS in current\n",
    "            if viewed_LS.P2.x < LS.P1.x\n",
    "                delete!(current, viewed_LS)\n",
    "            else\n",
    "                crossing_points = crosses(LS, viewed_LS)\n",
    "                union!(crossings, crossing_points)\n",
    "            end\n",
    "        end\n",
    "        push!(current, LS)\n",
    "    end\n",
    "    length(crossings)\n",
    "end\n",
    "\n",
    "p1_data = filter(LS -> LS.P1.x == LS.P2.x || LS.P1.y == LS.P2.y, get_d5_data())\n",
    "p2_data = get_d5_data()\n",
    "\n",
    "p(p1_data), p(p2_data)"
   ]
  },
  {
   "cell_type": "markdown",
   "id": "11b727f3-0b8d-4897-8b9f-9355b1f3b9e6",
   "metadata": {},
   "source": [
    "## Day 6!"
   ]
  },
  {
   "cell_type": "code",
   "execution_count": 7,
   "id": "6efa457c-b123-4555-9460-9dc55ee8c777",
   "metadata": {},
   "outputs": [
    {
     "data": {
      "text/plain": [
       "(386536, 1732821262171)"
      ]
     },
     "execution_count": 7,
     "metadata": {},
     "output_type": "execute_result"
    }
   ],
   "source": [
    "using Memoize\n",
    "\n",
    "function get_d6_data()\n",
    "    inp_str = open(io -> read(io, String), \"inputs/d06.txt\", \"r\") |> strip\n",
    "    map(s -> parse(Int, s), split(inp_str, \",\"))\n",
    "end\n",
    "\n",
    "@memoize function lanternfish(internal_fish_timer::Int, n_days_left::Int)::Int\n",
    "    if internal_fish_timer >= n_days_left\n",
    "        return 1\n",
    "    end\n",
    "    lanternfish(8, n_days_left - internal_fish_timer - 1) +\n",
    "    lanternfish(6, n_days_left - internal_fish_timer - 1)\n",
    "end\n",
    "\n",
    "function p1()\n",
    "    # Internal Fish Timer ==> IFT\n",
    "    input = get_d6_data()\n",
    "    mapreduce(IFT -> lanternfish(IFT, 80), +, input)\n",
    "end\n",
    "\n",
    "function p2()\n",
    "    input = get_d6_data()\n",
    "    mapreduce(IFT -> lanternfish(IFT, 256), +, input)\n",
    "end\n",
    "\n",
    "p1(), p2()"
   ]
  },
  {
   "cell_type": "markdown",
   "id": "3ed5359c-e689-4c97-9f20-a28c7cf8b894",
   "metadata": {},
   "source": [
    "Using memoization to make things quicker. Out of interest, here is the size of our cache:"
   ]
  },
  {
   "cell_type": "code",
   "execution_count": 8,
   "id": "918ff1a5-4023-461c-b6a4-f26849073577",
   "metadata": {},
   "outputs": [
    {
     "data": {
      "text/plain": [
       "IdDict{Any, Any} with 516 entries:\n",
       "  (6, 96)  => 3612\n",
       "  (6, 171) => 2395409\n",
       "  (8, 154) => 460699\n",
       "  (8, 227) => 268920395\n",
       "  (6, 55)  => 106\n",
       "  (8, 166) => 1296477\n",
       "  (6, 116) => 19600\n",
       "  (6, 9)   => 2\n",
       "  (8, 242) => 990284884\n",
       "  (6, 86)  => 1421\n",
       "  (8, 53)  => 70\n",
       "  (6, 216) => 122267142\n",
       "  (6, 23)  => 7\n",
       "  (8, 16)  => 3\n",
       "  (8, 83)  => 950\n",
       "  (8, 17)  => 3\n",
       "  (6, 109) => 10599\n",
       "  (8, 200) => 25247007\n",
       "  (6, 122) => 34255\n",
       "  (6, 162) => 1098932\n",
       "  (6, 154) => 556666\n",
       "  (8, 205) => 39025282\n",
       "  (6, 140) => 166401\n",
       "  (6, 65)  => 236\n",
       "  (8, 5)   => 1\n",
       "  ⋮        => ⋮"
      ]
     },
     "execution_count": 8,
     "metadata": {},
     "output_type": "execute_result"
    }
   ],
   "source": [
    "memoize_cache(lanternfish)"
   ]
  },
  {
   "cell_type": "markdown",
   "id": "ee1cf1d5-4678-4d72-8a24-67944674f1ad",
   "metadata": {},
   "source": [
    "Not too bad. Fairly small, considering the exponential growth. A tremendous amount of repeating occurs, making this a prime usecase for a cache."
   ]
  },
  {
   "cell_type": "markdown",
   "id": "146f03cc-57d7-46cb-a10c-04224943a697",
   "metadata": {},
   "source": [
    "## Day 7!\n",
    "\n",
    "Our problem is\n",
    "$$\n",
    "    C(x;\\mathbf{p}) = \\sum_{i=0}^N |p_i - x|,  \\quad MFC =\\min_x C(x;\\mathbf{p}), \\quad x, p_i \\in \\mathbb{Z}\n",
    "$$\n",
    "where $\\mathbf{p}$ is a vector of the current positions $p_i$ of the Crab Submarines, $C(x)$ is the fuel cost for target position $x$, and $MFC$ is the minimum fuel cost possible.\n",
    "\n",
    "but...\n",
    "\n",
    "Ignore mathin' and just do some map reducin'. There is probably a cleaner way to do this that relies on math, but since the system is nonlinear (due to the $\\mid \\cdot \\mid$), it is tricky, and I am not aware of the method. The map is pretty quick."
   ]
  },
  {
   "cell_type": "code",
   "execution_count": 9,
   "id": "16013a4e-1f2e-49a0-85f3-dff4c42461e8",
   "metadata": {},
   "outputs": [
    {
     "data": {
      "text/plain": [
       "(352254, 9.9053143e7)"
      ]
     },
     "execution_count": 9,
     "metadata": {},
     "output_type": "execute_result"
    }
   ],
   "source": [
    "function get_d7_data()\n",
    "    inp_str = open(io -> read(io, String), \"inputs/d07.txt\", \"r\") |> strip\n",
    "    map(s -> parse(Int, s), split(inp_str, \",\"))\n",
    "end\n",
    "\n",
    "crab_submarine_positions = get_d7_data()\n",
    "\n",
    "min_cost(p::Vector{Int}, C::Function) = minimum(map(x -> C(x, p), minimum(p):maximum(p)))\n",
    "\n",
    "function p1()\n",
    "    C(x::Int, p::Vector{Int}) = sum(abs.(x .- p))\n",
    "    min_cost(crab_submarine_positions, C)\n",
    "end\n",
    "\n",
    "function p2()\n",
    "    function C(x::Int, p::Vector{Int})\n",
    "        N = abs.(x .- p)\n",
    "        sum(N .* (N .+ 1)) / 2\n",
    "    end\n",
    "    min_cost(crab_submarine_positions, C)\n",
    "end\n",
    "\n",
    "\n",
    "p1(), p2()"
   ]
  },
  {
   "cell_type": "markdown",
   "id": "3e3e310b-caed-47fd-8345-a299a99d6967",
   "metadata": {},
   "source": [
    "## Day 8!"
   ]
  },
  {
   "cell_type": "code",
   "execution_count": 10,
   "id": "d1f3982f-e5e6-4c52-90aa-9a17924eb075",
   "metadata": {
    "tags": []
   },
   "outputs": [
    {
     "data": {
      "text/plain": [
       "(554, 990964)"
      ]
     },
     "execution_count": 10,
     "metadata": {},
     "output_type": "execute_result"
    }
   ],
   "source": [
    "function get_d8_data()\n",
    "    data = process_inputs(\"08\") do s\n",
    "        signal_patterns, outputs = split(s, \" | \")\n",
    "        sort(split(signal_patterns, \" \"), by = length), split(outputs, \" \")\n",
    "    end\n",
    "end\n",
    "\n",
    "org_mapping = Dict(\n",
    "    Set(\"abcefg\") => 0,\n",
    "    Set(\"cf\") => 1,\n",
    "    Set(\"acdeg\") => 2,\n",
    "    Set(\"acdfg\") => 3,\n",
    "    Set(\"bcdf\") => 4,\n",
    "    Set(\"abdfg\") => 5,\n",
    "    Set(\"abdefg\") => 6,\n",
    "    Set(\"acf\") => 7,\n",
    "    Set(\"abcdefg\") => 8,\n",
    "    Set(\"abcdfg\") => 9,\n",
    ")\n",
    "\n",
    "function deduce_mapping(signal_pattern::Vector)\n",
    "    one, seven, four, eight =\n",
    "        signal_pattern[1], signal_pattern[2], signal_pattern[3], signal_pattern[end]\n",
    "    a = setdiff(seven, one)\n",
    "    nine_zero_six = filter(s -> length(s) == 6, signal_pattern)\n",
    "    dce = mapreduce(num -> setdiff(eight, num), union, nine_zero_six)\n",
    "    c = intersect(dce, one)\n",
    "    f = setdiff(seven, a, c)\n",
    "    d = setdiff(intersect(dce, four), c)\n",
    "    e = setdiff(dce, c, d)\n",
    "    g = setdiff(eight, four, seven, e)\n",
    "    b = setdiff(eight, a, c, d, e, f, g)\n",
    "    Dict(zip(map(pop!, (a, b, c, d, e, f, g)), \"abcdefg\"))\n",
    "end\n",
    "\n",
    "function p1()\n",
    "    outputs = [o for (_, o) in get_d8_data()]\n",
    "    mapreduce(s -> length(s) in [2, 3, 4, 7], +, reduce(vcat, outputs))\n",
    "end\n",
    "\n",
    "function p2()\n",
    "    sigs_outs = get_d8_data()\n",
    "\n",
    "    s = 0\n",
    "    for (signal_pattern, output) in sigs_outs\n",
    "        pairs = deduce_mapping(signal_pattern)\n",
    "        for (i, digit) in enumerate(output)\n",
    "            num = org_mapping[Set(map(s -> pairs[s], digit))]\n",
    "            s += num * 10^(4 - i)\n",
    "        end\n",
    "    end\n",
    "    s\n",
    "end\n",
    "\n",
    "p1(), p2()"
   ]
  },
  {
   "cell_type": "markdown",
   "id": "a19aff9a-cf7b-4ea7-87ee-d87c8bb44322",
   "metadata": {},
   "source": [
    "## Day 9!"
   ]
  },
  {
   "cell_type": "code",
   "execution_count": 11,
   "id": "f2603fe7-256b-4f71-901a-386fd5cc78f3",
   "metadata": {},
   "outputs": [
    {
     "data": {
      "text/plain": [
       "(491, 1075536)"
      ]
     },
     "execution_count": 11,
     "metadata": {},
     "output_type": "execute_result"
    }
   ],
   "source": [
    "function d09data()\n",
    "    process_inputs(\"09\") do line\n",
    "        # vector of ints\n",
    "        map(s -> parse(Int, s), collect(line))\n",
    "        # convert vec of vec of int to matrix of int\n",
    "    end |> vv -> mapreduce(permutedims, vcat, vv)\n",
    "end\n",
    "\n",
    "function p1()\n",
    "    data = d09data()\n",
    "\n",
    "    total_hgt = 0\n",
    "    max_i, max_j = size(data)\n",
    "    for i = 1:max_i\n",
    "        for j = 1:max_j\n",
    "            ctr = data[i, j]\n",
    "            abv = i - 1 < 1 ? 9 : data[i-1, j]\n",
    "            lft = j - 1 < 1 ? 9 : data[i, j-1]\n",
    "            blw = i + 1 > max_i ? 9 : data[i+1, j]\n",
    "            rgt = j + 1 > max_j ? 9 : data[i, j+1]\n",
    "            is_lowpoint = all(pt -> ctr < pt, (abv, blw, rgt, lft))\n",
    "            total_hgt += is_lowpoint ? 1 + ctr : 0\n",
    "        end\n",
    "    end\n",
    "    total_hgt\n",
    "end\n",
    "\n",
    "Base.:+(p1::Tuple{Int,Int}, p2::Tuple{Int,Int}) = (p1[1] + p2[1], p1[2] + p2[2])\n",
    "Base.:≤(p1::Tuple{Int,Int}, p2::Tuple{Int,Int}) = p1[1] ≤ p2[1] && p1[2] ≤ p2[2]\n",
    "\n",
    "function p2()\n",
    "    D = d09data()\n",
    "\n",
    "    visited_points = Set{Tuple{Int,Int}}()\n",
    "    function spread(D, i::Int, j::Int)\n",
    "        points_to_visit = Set{Tuple{Int,Int}}([(i, j)])\n",
    "\n",
    "        count = 0\n",
    "        while length(points_to_visit) > 0\n",
    "            point = pop!(points_to_visit)\n",
    "\n",
    "            if D[point...] == 9\n",
    "                push!(visited_points, point)\n",
    "            elseif !(point in visited_points)\n",
    "                count += 1\n",
    "                push!(visited_points, point)\n",
    "                next_points = [\n",
    "                    point + dir for dir in ((1, 0), (-1, 0), (0, 1), (0, -1)) if\n",
    "                    (1, 1) ≤ point + dir ≤ size(D) && !(point + dir in visited_points)\n",
    "                ]\n",
    "                if length(next_points) > 0\n",
    "                    push!(points_to_visit, next_points...)\n",
    "                end\n",
    "            end\n",
    "        end\n",
    "        count\n",
    "    end\n",
    "\n",
    "    vals = []\n",
    "    max_i, max_j = size(D)\n",
    "    for (i, j) in Iterators.product(1:max_i, 1:max_j)\n",
    "        if !((i, j) in visited_points)\n",
    "            push!(vals, spread(D, i, j))\n",
    "        end\n",
    "    end\n",
    "    prod(sort!(vals)[end-2:end])\n",
    "end\n",
    "\n",
    "p1(), p2()"
   ]
  }
 ],
 "metadata": {
  "kernelspec": {
   "display_name": "Julia 1.6.2",
   "language": "julia",
   "name": "julia-1.6"
  },
  "language_info": {
   "file_extension": ".jl",
   "mimetype": "application/julia",
   "name": "julia",
   "version": "1.6.2"
  }
 },
 "nbformat": 4,
 "nbformat_minor": 5
}
